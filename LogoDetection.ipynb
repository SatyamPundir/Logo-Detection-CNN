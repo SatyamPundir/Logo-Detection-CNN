{
 "cells": [
  {
   "cell_type": "markdown",
   "id": "b309c980",
   "metadata": {},
   "source": [
    "## Importing Libraries"
   ]
  },
  {
   "cell_type": "code",
   "execution_count": 3,
   "id": "9c6ebabc",
   "metadata": {
    "scrolled": true
   },
   "outputs": [
    {
     "name": "stderr",
     "output_type": "stream",
     "text": [
      "C:\\Users\\patel\\anaconda3\\lib\\site-packages\\scipy\\__init__.py:146: UserWarning: A NumPy version >=1.16.5 and <1.23.0 is required for this version of SciPy (detected version 1.26.1\n",
      "  warnings.warn(f\"A NumPy version >={np_minversion} and <{np_maxversion}\"\n"
     ]
    }
   ],
   "source": [
    "import os\n",
    "import pickle\n",
    "import numpy as np\n",
    "import pandas as pd\n",
    "import seaborn as sns\n",
    "import matplotlib.pyplot as plt\n",
    "import matplotlib.image as mpimg\n",
    "import keras\n",
    "import tensorflow as tf\n",
    "from PIL import Image\n",
    "\n",
    "from keras.preprocessing import image\n",
    "from keras.applications.vgg19 import VGG19, preprocess_input\n",
    "from keras.models import Model\n",
    "from keras.layers import Dense, GlobalAveragePooling2D\n",
    "from keras.optimizers import Adam\n",
    "from keras.utils import to_categorical\n",
    "from sklearn.model_selection import train_test_split\n",
    "from tensorflow.keras.utils import plot_model\n",
    "from tensorflow.keras.models import Sequential\n",
    "from tensorflow.keras.applications import VGG19\n",
    "from tensorflow.keras.callbacks import EarlyStopping\n",
    "from tensorflow.keras.preprocessing.image import ImageDataGenerator\n",
    "from tensorflow.keras.layers import Input, Lambda, Flatten, Dropout, BatchNormalization, Activation\n",
    "from sklearn.metrics import confusion_matrix, classification_report, accuracy_score, recall_score, precision_score, f1_score\n"
   ]
  },
  {
   "cell_type": "markdown",
   "id": "b3568f36",
   "metadata": {},
   "source": [
    "## Data Splitting in Folders"
   ]
  },
  {
   "cell_type": "code",
   "execution_count": 10,
   "id": "06a8db51",
   "metadata": {},
   "outputs": [],
   "source": [
    "import os\n",
    "import shutil\n",
    "import random\n",
    "\n",
    "def split_data(input_directory, output_train_directory, output_test_directory, split_ratio=0.8):\n",
    "    \"\"\"\n",
    "    Split data from input_directory into training and test sets.\n",
    "\n",
    "    Args:\n",
    "        input_directory (str): Path to the directory containing subdirectories of class data.\n",
    "        output_train_directory (str): Path to the directory where training data will be stored.\n",
    "        output_test_directory (str): Path to the directory where test data will be stored.\n",
    "        split_ratio (float): Split ratio for training data (default is 0.8 for 80% training and 20% testing).\n",
    "    \"\"\"\n",
    "    # Get a list of all subdirectories in the input directory\n",
    "    subdirectories = [subdir for subdir in os.listdir(input_directory) if os.path.isdir(os.path.join(input_directory, subdir))]\n",
    "    \n",
    "    # Create train and test directories if they don't exist\n",
    "    os.makedirs(output_train_directory, exist_ok=True)\n",
    "    os.makedirs(output_test_directory, exist_ok=True)\n",
    "\n",
    "    for subdir in subdirectories:\n",
    "        subdir_path = os.path.join(input_directory, subdir)\n",
    "        image_files = [filename for filename in os.listdir(subdir_path) if filename.endswith('.jpg')]\n",
    "\n",
    "        # Shuffle the list of image files for randomness\n",
    "        random.shuffle(image_files)\n",
    "\n",
    "        # Calculate the split point\n",
    "        split_point = int(len(image_files) * split_ratio)\n",
    "\n",
    "        # Divide the image files into training and test sets\n",
    "        train_images = image_files[:split_point]\n",
    "        test_images = image_files[split_point:]\n",
    "\n",
    "        # Copy images to the train and test directories\n",
    "        for image in train_images:\n",
    "            source_path = os.path.join(subdir_path, image)\n",
    "            image = 'Fake' +image\n",
    "            destination_path = os.path.join(output_train_directory, subdir, image)\n",
    "            os.makedirs(os.path.dirname(destination_path), exist_ok=True)\n",
    "            shutil.copy(source_path, destination_path)\n",
    "\n",
    "        for image in test_images:\n",
    "            source_path = os.path.join(subdir_path, image)\n",
    "            image = 'Fake' +image\n",
    "            destination_path = os.path.join(output_test_directory, subdir, image)\n",
    "            os.makedirs(os.path.dirname(destination_path), exist_ok=True)\n",
    "            shutil.copy(source_path, destination_path)\n",
    "\n",
    "# Example usage:\n",
    "input_directory = \"D:/Downloads/AI_ML Course/Final Project/genLogoOutput\"  # Directory containing all the image subdirectories\n",
    "output_train_directory = 'C:/Users/satya/Downloads/AIML/Dataset/FakeLogoCategorize/train_data'  # Directory where training images will be stored\n",
    "output_test_directory = 'C:/Users/satya/Downloads/AIML/Dataset/FakeLogoCategorize/test_data'  # Directory where test images will be stored\n",
    "\n",
    "split_data(input_directory, output_train_directory, output_test_directory, split_ratio=0.8)\n"
   ]
  },
  {
   "cell_type": "code",
   "execution_count": 11,
   "id": "66938673",
   "metadata": {
    "scrolled": true
   },
   "outputs": [
    {
     "name": "stdout",
     "output_type": "stream",
     "text": [
      "000004.jpg\n",
      "000003.jpg\n",
      "000004.jpg\n",
      "000001.jpg\n",
      "000002.jpg\n",
      "000001.jpg\n",
      "000001.jpg\n",
      "000003.jpg\n",
      "000004.jpg\n",
      "000001.jpg\n",
      "000002.jpg\n",
      "000005.jpg\n",
      "000002.jpg\n",
      "000002.jpg\n",
      "000003.jpg\n",
      "000003.jpg\n",
      "000003.jpg\n",
      "000003.jpg\n",
      "000005.jpg\n",
      "000002.jpg\n",
      "000003.jpg\n",
      "000002.jpg\n",
      "000003.jpg\n",
      "000004.jpg\n",
      "000005.jpg\n",
      "000001.jpg\n",
      "000003.jpg\n",
      "000002.jpg\n",
      "000003.jpg\n",
      "000005.jpg\n",
      "000001.jpg\n",
      "000002.jpg\n",
      "000001.jpg\n",
      "000001.jpg\n",
      "000001.jpg\n",
      "000001.jpg\n",
      "000004.jpg\n",
      "000004.jpg\n",
      "000002.jpg\n",
      "000001.jpg\n",
      "000005.jpg\n",
      "000003.jpg\n",
      "000004.jpg\n",
      "000005.jpg\n",
      "000004.jpg\n",
      "000001.jpg\n",
      "000001.jpg\n",
      "000002.jpg\n",
      "000004.jpg\n",
      "000005.jpg\n",
      "000005.jpg\n",
      "000004.jpg\n",
      "000001.jpg\n",
      "000003.jpg\n",
      "000004.jpg\n",
      "000004.jpg\n",
      "000005.jpg\n",
      "000002.jpg\n",
      "000002.jpg\n",
      "000004.jpg\n",
      "000002.jpg\n",
      "000004.jpg\n",
      "000005.jpg\n"
     ]
    }
   ],
   "source": [
    "import os\n",
    "import shutil\n",
    "import random\n",
    "\n",
    "def split_data(input_directory, output_train_directory, output_test_directory, split_ratio=0.8):\n",
    "    \"\"\"\n",
    "    Split data from input_directory into training and test sets.\n",
    "\n",
    "    Args:\n",
    "        input_directory (str): Path to the directory containing subdirectories of class data.\n",
    "        output_train_directory (str): Path to the directory where training data will be stored.\n",
    "        output_test_directory (str): Path to the directory where test data will be stored.\n",
    "        split_ratio (float): Split ratio for training data (default is 0.8 for 80% training and 20% testing).\n",
    "    \"\"\"\n",
    "    # Get a list of all subdirectories in the input directory\n",
    "    subdirectories = [subdir for subdir in os.listdir(input_directory) if os.path.isdir(os.path.join(input_directory, subdir))]\n",
    "    \n",
    "    # Create train and test directories if they don't exist\n",
    "    os.makedirs(output_train_directory, exist_ok=True)\n",
    "    os.makedirs(output_test_directory, exist_ok=True)\n",
    "\n",
    "    for subdir in subdirectories:\n",
    "        subdir_path = os.path.join(input_directory, subdir)\n",
    "        image_files = [filename for filename in os.listdir(subdir_path) if filename.endswith('.jpg')]\n",
    "\n",
    "        # Shuffle the list of image files for randomness\n",
    "        random.shuffle(image_files)\n",
    "\n",
    "        # Calculate the split point\n",
    "        split_point = int(len(image_files) * split_ratio)\n",
    "\n",
    "        # Divide the image files into training and test sets\n",
    "        train_images = image_files[:split_point]\n",
    "        test_images = image_files[split_point:]\n",
    "\n",
    "        # Copy images to the train and test directories\n",
    "        for image in train_images:\n",
    "            source_path = os.path.join(subdir_path, image)\n",
    "            image = 'genuine' +image\n",
    "            destination_path = os.path.join(output_train_directory, subdir, image)\n",
    "            \n",
    "            os.makedirs(os.path.dirname(destination_path), exist_ok=True)\n",
    "            shutil.copy(source_path, destination_path)\n",
    "\n",
    "        for image in test_images:\n",
    "            print(image)\n",
    "            source_path = os.path.join(subdir_path, image)\n",
    "            image = 'genuine' +image\n",
    "            destination_path = os.path.join(output_test_directory, subdir, image)\n",
    "            os.makedirs(os.path.dirname(destination_path), exist_ok=True)\n",
    "            shutil.copy(source_path, destination_path)\n",
    "\n",
    "# Example usage:\n",
    "input_directory = \"C:/Users/satya/Downloads/AIML/Dataset/output\"  # Directory containing all the image subdirectories\n",
    "output_train_directory = 'C:/Users/satya/Downloads/AIML/Dataset/FakeLogoCategorize/train_data'  # Directory where training images will be stored\n",
    "output_test_directory = 'C:/Users/satya/Downloads/AIML/Dataset/FakeLogoCategorize/test_data'  # Directory where test images will be stored\n",
    "\n",
    "split_data(input_directory, output_train_directory, output_test_directory, split_ratio=0.8)\n"
   ]
  },
  {
   "cell_type": "code",
   "execution_count": 4,
   "id": "ab6a0afe",
   "metadata": {},
   "outputs": [],
   "source": [
    "train_dir = r\"D:\\Project\\Web App Flask\\Proj\\FakeLogoCategorize\\train_data\"\n",
    "test_dir = r\"D:\\Project\\Web App Flask\\Proj\\FakeLogoCategorize\\test_data\""
   ]
  },
  {
   "cell_type": "markdown",
   "id": "14ce0dd1",
   "metadata": {},
   "source": [
    "## Data Augmentation and Processing"
   ]
  },
  {
   "cell_type": "code",
   "execution_count": 5,
   "id": "5adc56dd",
   "metadata": {},
   "outputs": [],
   "source": [
    "datagen = ImageDataGenerator(\n",
    "    rescale=1./255,\n",
    "#     rotation_range=15,\n",
    "#     width_shift_range=0.1,\n",
    "#     height_shift_range=0.1,\n",
    "    shear_range=0.2,\n",
    "    zoom_range=0.2,\n",
    "    horizontal_flip=True,\n",
    "#     brightness_range = [0.7,1.3],\n",
    ")"
   ]
  },
  {
   "cell_type": "code",
   "execution_count": 6,
   "id": "aeec9aee",
   "metadata": {},
   "outputs": [
    {
     "name": "stdout",
     "output_type": "stream",
     "text": [
      "Found 636 images belonging to 63 classes.\n"
     ]
    }
   ],
   "source": [
    "train_data = datagen.flow_from_directory(\n",
    "    train_dir,\n",
    "    target_size=(224,224),\n",
    "    batch_size=15,\n",
    "    class_mode='categorical'\n",
    ")"
   ]
  },
  {
   "cell_type": "code",
   "execution_count": 7,
   "id": "67cc2b2b",
   "metadata": {},
   "outputs": [
    {
     "name": "stdout",
     "output_type": "stream",
     "text": [
      "Found 189 images belonging to 63 classes.\n"
     ]
    }
   ],
   "source": [
    "test_data = datagen.flow_from_directory(\n",
    "    test_dir,\n",
    "    target_size=(224,224),\n",
    "    batch_size=15,\n",
    "    class_mode='categorical'\n",
    ")"
   ]
  },
  {
   "cell_type": "markdown",
   "id": "59e7c4be",
   "metadata": {},
   "source": [
    "## MODEL BUILDING"
   ]
  },
  {
   "cell_type": "code",
   "execution_count": 8,
   "id": "93a31799",
   "metadata": {},
   "outputs": [],
   "source": [
    "Image_size=[224,224]"
   ]
  },
  {
   "cell_type": "code",
   "execution_count": 9,
   "id": "27a4b8be",
   "metadata": {},
   "outputs": [
    {
     "name": "stdout",
     "output_type": "stream",
     "text": [
      "Downloading data from https://storage.googleapis.com/tensorflow/keras-applications/vgg19/vgg19_weights_tf_dim_ordering_tf_kernels_notop.h5\n",
      "80134624/80134624 [==============================] - 209s 3us/step\n"
     ]
    }
   ],
   "source": [
    "base_model = VGG19(input_shape=Image_size+[3],weights='imagenet',include_top=False)"
   ]
  },
  {
   "cell_type": "code",
   "execution_count": 10,
   "id": "6232d2f4",
   "metadata": {},
   "outputs": [],
   "source": [
    "for i in base_model.layers:\n",
    "    i.trainable = False"
   ]
  },
  {
   "cell_type": "code",
   "execution_count": 11,
   "id": "b6ac1985",
   "metadata": {},
   "outputs": [],
   "source": [
    "model = Sequential()\n",
    "\n",
    "model.add(base_model)\n",
    "model.add(Flatten())\n",
    "model.add(Dense(63,activation='softmax'))"
   ]
  },
  {
   "cell_type": "code",
   "execution_count": 12,
   "id": "18762adf",
   "metadata": {},
   "outputs": [
    {
     "name": "stdout",
     "output_type": "stream",
     "text": [
      "Model: \"sequential\"\n",
      "_________________________________________________________________\n",
      " Layer (type)                Output Shape              Param #   \n",
      "=================================================================\n",
      " vgg19 (Functional)          (None, 7, 7, 512)         20024384  \n",
      "                                                                 \n",
      " flatten (Flatten)           (None, 25088)             0         \n",
      "                                                                 \n",
      " dense (Dense)               (None, 63)                1580607   \n",
      "                                                                 \n",
      "=================================================================\n",
      "Total params: 21604991 (82.42 MB)\n",
      "Trainable params: 1580607 (6.03 MB)\n",
      "Non-trainable params: 20024384 (76.39 MB)\n",
      "_________________________________________________________________\n"
     ]
    }
   ],
   "source": [
    "model.summary()"
   ]
  },
  {
   "cell_type": "code",
   "execution_count": 13,
   "id": "f7dba6f6",
   "metadata": {},
   "outputs": [],
   "source": [
    "model.compile(\n",
    "    optimizer='adam',\n",
    "    loss='categorical_crossentropy',\n",
    "    metrics = ['Accuracy']\n",
    ")"
   ]
  },
  {
   "cell_type": "code",
   "execution_count": null,
   "id": "1694c9e8",
   "metadata": {},
   "outputs": [],
   "source": []
  },
  {
   "cell_type": "code",
   "execution_count": 14,
   "id": "697112f9",
   "metadata": {},
   "outputs": [
    {
     "name": "stdout",
     "output_type": "stream",
     "text": [
      "Epoch 1/10\n",
      "43/43 [==============================] - 242s 6s/step - loss: 4.3897 - Accuracy: 0.3129 - val_loss: 1.4323 - val_Accuracy: 0.6825\n",
      "Epoch 2/10\n",
      "43/43 [==============================] - 2057s 49s/step - loss: 0.5806 - Accuracy: 0.8553 - val_loss: 0.7637 - val_Accuracy: 0.7778\n",
      "Epoch 3/10\n",
      "43/43 [==============================] - 214s 5s/step - loss: 0.2594 - Accuracy: 0.9355 - val_loss: 0.3940 - val_Accuracy: 0.8889\n",
      "Epoch 4/10\n",
      "43/43 [==============================] - 205s 5s/step - loss: 0.1182 - Accuracy: 0.9717 - val_loss: 0.3183 - val_Accuracy: 0.9153\n",
      "Epoch 5/10\n",
      "43/43 [==============================] - 197s 5s/step - loss: 0.0746 - Accuracy: 0.9796 - val_loss: 0.3401 - val_Accuracy: 0.9101\n",
      "Epoch 6/10\n",
      "43/43 [==============================] - 194s 5s/step - loss: 0.0515 - Accuracy: 0.9890 - val_loss: 0.2000 - val_Accuracy: 0.9206\n",
      "Epoch 7/10\n",
      "43/43 [==============================] - 197s 5s/step - loss: 0.0160 - Accuracy: 1.0000 - val_loss: 0.2417 - val_Accuracy: 0.9312\n",
      "Epoch 8/10\n",
      "43/43 [==============================] - 213s 5s/step - loss: 0.0109 - Accuracy: 0.9969 - val_loss: 0.1654 - val_Accuracy: 0.9524\n",
      "Epoch 9/10\n",
      "43/43 [==============================] - 213s 5s/step - loss: 0.0088 - Accuracy: 1.0000 - val_loss: 0.1228 - val_Accuracy: 0.9841\n",
      "Epoch 10/10\n",
      "43/43 [==============================] - 206s 5s/step - loss: 0.0046 - Accuracy: 1.0000 - val_loss: 0.1178 - val_Accuracy: 0.9683\n"
     ]
    }
   ],
   "source": [
    "with tf.device('/GPU:0'):\n",
    "    history = model.fit(\n",
    "        train_data,\n",
    "        validation_data =test_data,\n",
    "        epochs = 10,\n",
    "        batch_size = 15,\n",
    "        shuffle = True\n",
    "    )"
   ]
  },
  {
   "cell_type": "code",
   "execution_count": 15,
   "id": "99f8217d",
   "metadata": {},
   "outputs": [],
   "source": [
    "acc = history.history['Accuracy']\n",
    "val_acc = history.history['val_Accuracy']\n",
    "\n",
    "loss = history.history['loss']\n",
    "val_loss = history.history['val_loss']"
   ]
  },
  {
   "cell_type": "code",
   "execution_count": 16,
   "id": "01e5a1de",
   "metadata": {},
   "outputs": [
    {
     "data": {
      "text/plain": [
       "Text(0.5, 1.0, 'training and validation Accuracy')"
      ]
     },
     "execution_count": 16,
     "metadata": {},
     "output_type": "execute_result"
    },
    {
     "data": {
      "image/png": "[encoded data removed]",
      "text/plain": [
       "<Figure size 576x576 with 1 Axes>"
      ]
     },
     "metadata": {
      "needs_background": "light"
     },
     "output_type": "display_data"
    }
   ],
   "source": [
    "plt.figure(figsize=(8,8))\n",
    "plt.subplot(1,2,1)\n",
    "plt.plot(range(10),acc,label='Training Accuracy')\n",
    "plt.plot(range(10),val_acc,label='Validation Accuracy')\n",
    "plt.legend(loc='lower right')\n",
    "plt.title('training and validation Accuracy')"
   ]
  },
  {
   "cell_type": "code",
   "execution_count": 17,
   "id": "14d7cc9e",
   "metadata": {},
   "outputs": [
    {
     "name": "stdout",
     "output_type": "stream",
     "text": [
      "1/1 [==============================] - 2s 2s/step\n"
     ]
    },
    {
     "data": {
      "text/plain": [
       "(15, 63)"
      ]
     },
     "execution_count": 17,
     "metadata": {},
     "output_type": "execute_result"
    }
   ],
   "source": [
    "model.predict([test_data[1][0]]).shape"
   ]
  },
  {
   "cell_type": "code",
   "execution_count": 65,
   "id": "146ef95f",
   "metadata": {},
   "outputs": [
    {
     "name": "stderr",
     "output_type": "stream",
     "text": [
      "C:\\Users\\patel\\anaconda3\\lib\\site-packages\\keras\\src\\engine\\training.py:3079: UserWarning: You are saving your model as an HDF5 file via `model.save()`. This file format is considered legacy. We recommend using instead the native Keras format, e.g. `model.save('my_model.keras')`.\n",
      "  saving_api.save_model(\n"
     ]
    }
   ],
   "source": [
    "model.save(\"Logo_classification.h5\")"
   ]
  },
  {
   "cell_type": "code",
   "execution_count": null,
   "id": "8e74a02e",
   "metadata": {},
   "outputs": [],
   "source": []
  },
  {
   "cell_type": "markdown",
   "id": "17fa2cbb",
   "metadata": {},
   "source": [
    "### Testing the model"
   ]
  },
  {
   "cell_type": "code",
   "execution_count": 7,
   "id": "fe18f72a",
   "metadata": {},
   "outputs": [],
   "source": [
    "from keras.models import load_model\n",
    "model = load_model(\"Logo_classification.h5\",compile=False)"
   ]
  },
  {
   "cell_type": "code",
   "execution_count": 67,
   "id": "962785c8",
   "metadata": {},
   "outputs": [],
   "source": [
    "from keras.preprocessing import image\n",
    "img_test = image.load_img(r\"D:\\Project\\Web App Flask\\Proj\\FakeLogoCategorize\\train_data\\Cadbury\\Fake000002.jpg\", target_size=(224,224))"
   ]
  },
  {
   "cell_type": "code",
   "execution_count": 68,
   "id": "d886c4ad",
   "metadata": {},
   "outputs": [
    {
     "data": {
      "image/png": "[encoded data removed]",
      "text/plain": [
       "<PIL.Image.Image image mode=RGB size=224x224 at 0x1D7016556A0>"
      ]
     },
     "execution_count": 68,
     "metadata": {},
     "output_type": "execute_result"
    }
   ],
   "source": [
    "img_test"
   ]
  },
  {
   "cell_type": "code",
   "execution_count": 69,
   "id": "c0ba6150",
   "metadata": {},
   "outputs": [],
   "source": [
    "img_arr = image.img_to_array(img_test)"
   ]
  },
  {
   "cell_type": "code",
   "execution_count": 70,
   "id": "3eb65abf",
   "metadata": {},
   "outputs": [
    {
     "data": {
      "text/plain": [
       "array([[[0., 0., 0.],\n",
       "        [0., 0., 0.],\n",
       "        [0., 0., 0.],\n",
       "        ...,\n",
       "        [0., 0., 0.],\n",
       "        [0., 0., 0.],\n",
       "        [0., 0., 0.]],\n",
       "\n",
       "       [[0., 0., 0.],\n",
       "        [0., 0., 0.],\n",
       "        [0., 0., 0.],\n",
       "        ...,\n",
       "        [0., 0., 0.],\n",
       "        [0., 0., 0.],\n",
       "        [0., 0., 0.]],\n",
       "\n",
       "       [[0., 0., 0.],\n",
       "        [0., 0., 0.],\n",
       "        [0., 0., 0.],\n",
       "        ...,\n",
       "        [0., 0., 0.],\n",
       "        [0., 0., 0.],\n",
       "        [0., 0., 0.]],\n",
       "\n",
       "       ...,\n",
       "\n",
       "       [[0., 0., 0.],\n",
       "        [0., 0., 0.],\n",
       "        [0., 0., 0.],\n",
       "        ...,\n",
       "        [0., 0., 0.],\n",
       "        [0., 0., 0.],\n",
       "        [0., 0., 0.]],\n",
       "\n",
       "       [[0., 0., 0.],\n",
       "        [0., 0., 0.],\n",
       "        [0., 0., 0.],\n",
       "        ...,\n",
       "        [0., 0., 0.],\n",
       "        [0., 0., 0.],\n",
       "        [0., 0., 0.]],\n",
       "\n",
       "       [[0., 0., 0.],\n",
       "        [0., 0., 0.],\n",
       "        [0., 0., 0.],\n",
       "        ...,\n",
       "        [0., 0., 0.],\n",
       "        [0., 0., 0.],\n",
       "        [0., 0., 0.]]], dtype=float32)"
      ]
     },
     "execution_count": 70,
     "metadata": {},
     "output_type": "execute_result"
    }
   ],
   "source": [
    "img_arr"
   ]
  },
  {
   "cell_type": "code",
   "execution_count": 71,
   "id": "38b81369",
   "metadata": {},
   "outputs": [],
   "source": [
    "img_arr = np.expand_dims(img_arr, axis=0)"
   ]
  },
  {
   "cell_type": "code",
   "execution_count": 72,
   "id": "71fb0a32",
   "metadata": {},
   "outputs": [
    {
     "data": {
      "text/plain": [
       "4"
      ]
     },
     "execution_count": 72,
     "metadata": {},
     "output_type": "execute_result"
    }
   ],
   "source": [
    "img_arr.ndim"
   ]
  },
  {
   "cell_type": "code",
   "execution_count": 39,
   "id": "6ca18f45",
   "metadata": {},
   "outputs": [
    {
     "data": {
      "text/plain": [
       "(1, 224, 224, 3)"
      ]
     },
     "execution_count": 39,
     "metadata": {},
     "output_type": "execute_result"
    }
   ],
   "source": [
    "img_arr.shape"
   ]
  },
  {
   "cell_type": "code",
   "execution_count": 40,
   "id": "14755f73",
   "metadata": {},
   "outputs": [
    {
     "name": "stdout",
     "output_type": "stream",
     "text": [
      "1/1 [==============================] - 1s 791ms/step\n"
     ]
    }
   ],
   "source": [
    "predimg = model.predict(img_arr)"
   ]
  },
  {
   "cell_type": "code",
   "execution_count": 41,
   "id": "b013d954",
   "metadata": {},
   "outputs": [
    {
     "data": {
      "text/plain": [
       "array([[0.0000000e+00, 0.0000000e+00, 0.0000000e+00, 0.0000000e+00,\n",
       "        0.0000000e+00, 0.0000000e+00, 0.0000000e+00, 0.0000000e+00,\n",
       "        1.1111087e-22, 0.0000000e+00, 0.0000000e+00, 0.0000000e+00,\n",
       "        0.0000000e+00, 0.0000000e+00, 0.0000000e+00, 0.0000000e+00,\n",
       "        0.0000000e+00, 0.0000000e+00, 0.0000000e+00, 1.0000000e+00,\n",
       "        0.0000000e+00, 0.0000000e+00, 1.6753346e-25, 0.0000000e+00,\n",
       "        0.0000000e+00, 0.0000000e+00, 0.0000000e+00, 0.0000000e+00,\n",
       "        0.0000000e+00, 0.0000000e+00, 0.0000000e+00, 0.0000000e+00,\n",
       "        0.0000000e+00, 0.0000000e+00, 0.0000000e+00, 0.0000000e+00,\n",
       "        0.0000000e+00, 0.0000000e+00, 0.0000000e+00, 0.0000000e+00,\n",
       "        0.0000000e+00, 0.0000000e+00, 0.0000000e+00, 0.0000000e+00,\n",
       "        1.7619399e-12, 7.8083017e-22, 0.0000000e+00, 3.8725477e-37,\n",
       "        3.2782198e-32, 0.0000000e+00, 0.0000000e+00, 0.0000000e+00,\n",
       "        0.0000000e+00, 0.0000000e+00, 0.0000000e+00, 0.0000000e+00,\n",
       "        0.0000000e+00, 0.0000000e+00, 0.0000000e+00, 0.0000000e+00,\n",
       "        0.0000000e+00, 1.0185592e-33, 0.0000000e+00]], dtype=float32)"
      ]
     },
     "execution_count": 41,
     "metadata": {},
     "output_type": "execute_result"
    }
   ],
   "source": [
    "predimg"
   ]
  },
  {
   "cell_type": "code",
   "execution_count": 46,
   "id": "1408c3e3",
   "metadata": {},
   "outputs": [
    {
     "data": {
      "text/plain": [
       "['Adidas',\n",
       " 'Amazon',\n",
       " 'Android',\n",
       " 'Apple',\n",
       " 'Ariel',\n",
       " 'BMW',\n",
       " 'Bic',\n",
       " 'Burger King',\n",
       " 'Cadbury',\n",
       " 'Chevrolet',\n",
       " 'Chrome',\n",
       " 'Coca Cola',\n",
       " 'Cowbell',\n",
       " 'Dominos',\n",
       " 'Fila',\n",
       " 'Gillette',\n",
       " 'Google',\n",
       " 'Goya oil',\n",
       " 'Guinness',\n",
       " 'Heinz',\n",
       " 'Honda',\n",
       " 'Hp',\n",
       " 'Huawei',\n",
       " 'Instagram',\n",
       " 'KFC',\n",
       " 'Krisspy Kreme',\n",
       " 'Lays',\n",
       " 'Levis',\n",
       " 'Lg',\n",
       " 'Lipton',\n",
       " 'Mars',\n",
       " 'Marvel',\n",
       " 'McDonald',\n",
       " 'Mercedes Benz',\n",
       " 'Microsoft',\n",
       " 'MnM',\n",
       " 'Mtn',\n",
       " 'Mountain dew',\n",
       " 'NASA',\n",
       " 'Nescafe',\n",
       " 'Nestle',\n",
       " 'Nestle milo',\n",
       " 'Netflix',\n",
       " 'Nike',\n",
       " 'Nutella',\n",
       " 'Oral-B',\n",
       " 'Oreo',\n",
       " 'Pay pal',\n",
       " 'Peak milk',\n",
       " 'Pepsi',\n",
       " 'PlayStation',\n",
       " 'Pringles',\n",
       " 'Puma',\n",
       " 'Reebok',\n",
       " 'Rolex',\n",
       " 'Samsung',\n",
       " 'Sprite',\n",
       " 'Starbucks',\n",
       " 'Tesla',\n",
       " 'Tiktok',\n",
       " 'Twitter',\n",
       " 'YouTube',\n",
       " 'Zara']"
      ]
     },
     "execution_count": 46,
     "metadata": {},
     "output_type": "execute_result"
    }
   ],
   "source": [
    "index = ['Adidas', 'Amazon', 'Android', 'Apple', 'Ariel', 'BMW', 'Bic', 'Burger King', 'Cadbury', 'Chevrolet', 'Chrome', 'Coca Cola', 'Cowbell', 'Dominos', 'Fila', 'Gillette', 'Google', 'Goya oil', 'Guinness', 'Heinz', 'Honda', 'Hp', 'Huawei', 'Instagram', 'KFC', 'Krisspy Kreme', 'Lays', 'Levis', 'Lg', 'Lipton', 'Mars', 'Marvel', 'McDonald', 'Mercedes Benz', 'Microsoft', 'MnM', 'Mtn', 'Mountain dew', 'NASA', 'Nescafe', 'Nestle', 'Nestle milo', 'Netflix', 'Nike', 'Nutella', 'Oral-B', 'Oreo', 'Pay pal', 'Peak milk', 'Pepsi', 'PlayStation', 'Pringles', 'Puma', 'Reebok', 'Rolex', 'Samsung', 'Sprite', 'Starbucks', 'Tesla', 'Tiktok', 'Twitter', 'YouTube', 'Zara']\n",
    "index"
   ]
  },
  {
   "cell_type": "code",
   "execution_count": 43,
   "id": "b2cb4335",
   "metadata": {},
   "outputs": [],
   "source": [
    "pred_class = np.argmax(predimg, axis=1)"
   ]
  },
  {
   "cell_type": "code",
   "execution_count": 44,
   "id": "fd473654",
   "metadata": {},
   "outputs": [
    {
     "data": {
      "text/plain": [
       "19"
      ]
     },
     "execution_count": 44,
     "metadata": {},
     "output_type": "execute_result"
    }
   ],
   "source": [
    "pred_class[0]"
   ]
  },
  {
   "cell_type": "code",
   "execution_count": 48,
   "id": "649bd973",
   "metadata": {},
   "outputs": [],
   "source": [
    "index = ['Adidas', 'Amazon', 'Android', 'Apple', 'Ariel', 'BMW', 'Bic', 'Burger King', 'Cadbury', 'Chevrolet', 'Chrome', 'Coca Cola', 'Cowbell', 'Dominos', 'Fila', 'Gillette', 'Google', 'Goya oil', 'Guinness', 'Heinz', 'Honda', 'Hp', 'Huawei', 'Instagram', 'KFC', 'Krisspy Kreme', 'Lays', 'Levis', 'Lg', 'Lipton', 'Mars', 'Marvel', 'McDonald', 'Mercedes Benz', 'Microsoft', 'MnM', 'Mtn', 'Mountain dew', 'NASA', 'Nescafe', 'Nestle', 'Nestle milo', 'Netflix', 'Nike', 'Nutella', 'Oral-B', 'Oreo', 'Pay pal', 'Peak milk', 'Pepsi', 'PlayStation', 'Pringles', 'Puma', 'Reebok', 'Rolex', 'Samsung', 'Sprite', 'Starbucks', 'Tesla', 'Tiktok', 'Twitter', 'YouTube', 'Zara']\n",
    "result = str(index[pred_class[0]])"
   ]
  },
  {
   "cell_type": "code",
   "execution_count": 49,
   "id": "c5bed017",
   "metadata": {},
   "outputs": [
    {
     "data": {
      "text/plain": [
       "'Heinz'"
      ]
     },
     "execution_count": 49,
     "metadata": {},
     "output_type": "execute_result"
    }
   ],
   "source": [
    "result"
   ]
  },
  {
   "cell_type": "code",
   "execution_count": 50,
   "id": "eae3c8c3",
   "metadata": {},
   "outputs": [
    {
     "name": "stdout",
     "output_type": "stream",
     "text": [
      "100.0 <class 'numpy.ndarray'>\n"
     ]
    }
   ],
   "source": [
    "maxval = np.amax(predimg, axis=1)\n",
    "print(maxval[0]*100 , type(maxval))"
   ]
  },
  {
   "cell_type": "code",
   "execution_count": 54,
   "id": "4371b9dc",
   "metadata": {},
   "outputs": [
    {
     "name": "stdout",
     "output_type": "stream",
     "text": [
      "1/1 [==============================] - 0s 176ms/step\n",
      "[[0.0000000e+00 0.0000000e+00 0.0000000e+00 0.0000000e+00 0.0000000e+00\n",
      "  0.0000000e+00 0.0000000e+00 0.0000000e+00 1.1111087e-22 0.0000000e+00\n",
      "  0.0000000e+00 0.0000000e+00 0.0000000e+00 0.0000000e+00 0.0000000e+00\n",
      "  0.0000000e+00 0.0000000e+00 0.0000000e+00 0.0000000e+00 1.0000000e+00\n",
      "  0.0000000e+00 0.0000000e+00 1.6753346e-25 0.0000000e+00 0.0000000e+00\n",
      "  0.0000000e+00 0.0000000e+00 0.0000000e+00 0.0000000e+00 0.0000000e+00\n",
      "  0.0000000e+00 0.0000000e+00 0.0000000e+00 0.0000000e+00 0.0000000e+00\n",
      "  0.0000000e+00 0.0000000e+00 0.0000000e+00 0.0000000e+00 0.0000000e+00\n",
      "  0.0000000e+00 0.0000000e+00 0.0000000e+00 0.0000000e+00 1.7619399e-12\n",
      "  7.8083017e-22 0.0000000e+00 3.8725477e-37 3.2782198e-32 0.0000000e+00\n",
      "  0.0000000e+00 0.0000000e+00 0.0000000e+00 0.0000000e+00 0.0000000e+00\n",
      "  0.0000000e+00 0.0000000e+00 0.0000000e+00 0.0000000e+00 0.0000000e+00\n",
      "  0.0000000e+00 1.0185592e-33 0.0000000e+00]]\n"
     ]
    }
   ],
   "source": [
    "imagesx = np.vstack([img_arr])\n",
    "classes = model.predict(imagesx)\n",
    "print(classes)"
   ]
  },
  {
   "cell_type": "code",
   "execution_count": 55,
   "id": "28bedce3",
   "metadata": {},
   "outputs": [
    {
     "data": {
      "text/plain": [
       "19"
      ]
     },
     "execution_count": 55,
     "metadata": {},
     "output_type": "execute_result"
    }
   ],
   "source": [
    "classes.argmax()"
   ]
  },
  {
   "cell_type": "code",
   "execution_count": 56,
   "id": "8c5a22ef",
   "metadata": {},
   "outputs": [
    {
     "data": {
      "text/plain": [
       "1.0"
      ]
     },
     "execution_count": 56,
     "metadata": {},
     "output_type": "execute_result"
    }
   ],
   "source": [
    "classes.max()"
   ]
  },
  {
   "cell_type": "code",
   "execution_count": 57,
   "id": "caefed06",
   "metadata": {},
   "outputs": [
    {
     "data": {
      "text/plain": [
       "array([[ 0, 32, 33, 34, 35, 36, 37, 38, 39, 40, 41, 42, 43, 46, 49, 50,\n",
       "        51, 52, 53, 54, 55, 56, 57, 58, 59, 60, 30, 29, 31, 27,  1,  2,\n",
       "         3,  4,  5,  6,  7,  9, 10, 11, 12, 13, 28, 62, 15, 16, 17, 18,\n",
       "        26, 20, 14, 21, 23, 24, 25, 47, 61, 48, 22,  8, 45, 44, 19]],\n",
       "      dtype=int64)"
      ]
     },
     "execution_count": 57,
     "metadata": {},
     "output_type": "execute_result"
    }
   ],
   "source": [
    "classes.argsort()"
   ]
  },
  {
   "cell_type": "code",
   "execution_count": 58,
   "id": "007d158f",
   "metadata": {},
   "outputs": [
    {
     "data": {
      "text/plain": [
       "'Oral-B'"
      ]
     },
     "execution_count": 58,
     "metadata": {},
     "output_type": "execute_result"
    }
   ],
   "source": [
    "index[45]"
   ]
  },
  {
   "cell_type": "code",
   "execution_count": 59,
   "id": "ad3fb9aa",
   "metadata": {},
   "outputs": [
    {
     "data": {
      "text/plain": [
       "'Nutella'"
      ]
     },
     "execution_count": 59,
     "metadata": {},
     "output_type": "execute_result"
    }
   ],
   "source": [
    "index[44]"
   ]
  },
  {
   "cell_type": "code",
   "execution_count": 60,
   "id": "40df633d",
   "metadata": {},
   "outputs": [
    {
     "data": {
      "text/plain": [
       "'Cadbury'"
      ]
     },
     "execution_count": 60,
     "metadata": {},
     "output_type": "execute_result"
    }
   ],
   "source": [
    "index[8]"
   ]
  },
  {
   "cell_type": "code",
   "execution_count": null,
   "id": "471bf77b",
   "metadata": {},
   "outputs": [],
   "source": []
  },
  {
   "cell_type": "code",
   "execution_count": null,
   "id": "b170ec8e",
   "metadata": {},
   "outputs": [],
   "source": []
  }
 ],
 "metadata": {
  "kernelspec": {
   "display_name": "Python 3 (ipykernel)",
   "language": "python",
   "name": "python3"
  },
  "language_info": {
   "codemirror_mode": {
    "name": "ipython",
    "version": 3
   },
   "file_extension": ".py",
   "mimetype": "text/x-python",
   "name": "python",
   "nbconvert_exporter": "python",
   "pygments_lexer": "ipython3",
   "version": "3.11.5"
  }
 },
 "nbformat": 4,
 "nbformat_minor": 5
}
